{
 "cells": [
  {
   "cell_type": "markdown",
   "id": "4d2e3c12",
   "metadata": {},
   "source": [
    "# Task 7.1"
   ]
  },
  {
   "cell_type": "code",
   "execution_count": 1,
   "id": "8a0c0a28",
   "metadata": {},
   "outputs": [
    {
     "name": "stdout",
     "output_type": "stream",
     "text": [
      "Enter mass : 500\n",
      "It's too Heavy.\n"
     ]
    }
   ],
   "source": [
    "mass = float(input(\"Enter mass : \"))\n",
    "weight = float(mass*39.8)\n",
    "if weight>500:\n",
    "    print(\"It's too Heavy.\")\n",
    "elif weight<100: \n",
    "    print(\"It's too Light.\")\n",
    "else:\n",
    "    print(\"it is Optimal.\")"
   ]
  },
  {
   "cell_type": "code",
   "execution_count": null,
   "id": "b9c59cff",
   "metadata": {},
   "outputs": [],
   "source": [
    "import math\n",
    "people=int(input(\"Enter No of people attending the cookout :\"))\n",
    "hot=float(input(\"Enter nub of hotdogs for each person :\"))\n",
    "bun=float(input(\"Enter the nub of buns for each person :\"))\n",
    "hotdogs=10\n",
    "buns=8\n",
    "\n",
    "hotdog= hot*people\n",
    "print(\"No of hotdogs for 1 person :\",hotdog)\n",
    "tbuns=bun*people\n",
    "print(\"Nub of buns for 1 person :\",tbuns)\n",
    "thdp=hotdog / hotdogs\n",
    "\n",
    "var1=math.ceil(thdp)\n",
    "print(\"Total hot dogs packages :\",var1)\n",
    "tbp=tbuns / buns\n",
    "var2=math.ceil(tbp)\n",
    "\n",
    "print(\"Total buns packages :\",var2)\n",
    "\n",
    "rht=int(var1*hotdogs-hotdog)\n",
    "print(\"The number of hot dogs that will be left over :\",rht)\n",
    "rb=int(var2*buns-tbuns)\n",
    "print(\"The number of hot dog buns that will be left over :\",rb)"
   ]
  },
  {
   "cell_type": "code",
   "execution_count": null,
   "id": "39c200db",
   "metadata": {},
   "outputs": [],
   "source": [
    "miles = 0.0\n",
    "totalGallons = 0.0 \n",
    "totalMiles = 0.0\n",
    "gallons = float(input(\"enter number of gallons  : \"))\n",
    "averageTotal = 0.0\n",
    "while gallons>0:\n",
    "    totalGallons+=gallons \n",
    "    gallons = float(input(\"ener number of gallons  :\"))\n",
    "    miles =input(\"Enter miles :\") \n",
    "     totalMiles+=miles\n",
    "    \n",
    "averageTotal = totalMiles/totalGallons\n",
    "print(\"total Average is : \",averageTotal)"
   ]
  },
  {
   "cell_type": "code",
   "execution_count": null,
   "id": "2f4eae1f",
   "metadata": {},
   "outputs": [],
   "source": [
    "purchase= int(input(\"enter number of packets you want to purchase :\"))\n",
    "amount = purchase*99\n",
    "if(purchase<10):\n",
    "     print(\"you get no discount . total amount is :\",amount)\n",
    "if(purchase>=10 and purchase<=19):\n",
    "    discount = (10/100)*amount\n",
    "    amount = amount-discount\n",
    "    print(\"you get 10 persent discount your purchase amount is :\",amount)\n",
    "    \n",
    "if(purchase>=20 and purchase<=49):\n",
    "    discount = (20/100)*amount\n",
    "    amount = amount-discount\n",
    "    print(\"you get 20 persent discount your purchase amount is :\",amount)\n",
    "    \n",
    "if(purchase>=50 and purchase<=99):\n",
    "    discount = (30/100)*amount\n",
    "    amount = amount-discount\n",
    "    print(\"you get 30 persent discount your purchase amount is :\",amount)\n",
    "    \n",
    "if(purchase>=100):\n",
    "    discount = (40/100)*amount\n",
    "    amount = amount-discount\n",
    "    print(\"you get 40 persentyour purchase amount is :\",amount)"
   ]
  },
  {
   "cell_type": "code",
   "execution_count": null,
   "id": "58d93931",
   "metadata": {},
   "outputs": [],
   "source": [
    "weight = int(input(\"enter weight of a packet : \"))\n",
    "if weight>=1 and weight<=2:\n",
    "    charge = weight*1.50\n",
    "    print(\"Shipping charges is : \",charge)\n",
    "    \n",
    "if weight>2 and weight<=6:\n",
    "    charge =weight*3.00\n",
    "    print(\"Shipping charges is : \",charge)\n",
    "\n",
    "if weight>6 and weight<=10:\n",
    "    charge= weight*4.00\n",
    "    print(\"Shipping charges is : \",charge)\n",
    "    \n",
    "if weight>10:\n",
    "    charge = weight*4.75\n",
    "    print(\"Shipping charges is : \",charge)"
   ]
  },
  {
   "cell_type": "code",
   "execution_count": null,
   "id": "b3e24408",
   "metadata": {},
   "outputs": [],
   "source": [
    "weight = int(input(\"enter weight of a packet : \"))\n",
    "if weight>=1 and weight<=2:\n",
    "    charge = weight*1.50\n",
    "    print(\"Shipping charges is : \",charge)\n",
    "    \n",
    "if weight>2 and weight<=6:\n",
    "    charge =weight*3.00\n",
    "    print(\"Shipping charges is : \",charge)\n",
    "\n",
    "if weight>6 and weight<=10:\n",
    "    charge= weight*4.00\n",
    "    print(\"Shipping charges is : \",charge)\n",
    "    \n",
    "if weight>10:\n",
    "    charge = weight*4.75\n",
    "    print(\"Shipping charges is : \",charge)"
   ]
  },
  {
   "cell_type": "code",
   "execution_count": null,
   "id": "44271657",
   "metadata": {},
   "outputs": [],
   "source": [
    "weight = float(input(\"enter weight in pounds :\"))\n",
    "height = float(input(\"enter heigth in inches :\"))\n",
    "BMI =(weight*703)/(height**2)\n",
    "print(\"your BMI is : \",BMI)\n",
    "\n",
    "if BMI>=18.5 and BMI<=25:\n",
    "    print(\"optimal\")\n",
    "    \n",
    "if BMI<18.5:\n",
    "    print(\"you are under weight .\")\n",
    "    \n",
    "if BMI>25:\n",
    "    print(\"you are over weight .\")"
   ]
  },
  {
   "cell_type": "code",
   "execution_count": null,
   "id": "6cf4bcff",
   "metadata": {},
   "outputs": [],
   "source": [
    "budget = float(input(\"Enter your budget : \"))\n",
    "expences = 0.0\n",
    "while expences>=0:\n",
    "    expence= float(input(\"enter your expences .if your expences done enter -1:\"))\n",
    "    if expence<0:\n",
    "        break\n",
    "    else:\n",
    "        expences =expences+expence\n",
    "    \n",
    "result = budget - expences\n",
    "if result>0:\n",
    "    print(\"you are under your budget .\")\n",
    "    \n",
    "if result<0:\n",
    "    print(\"you are over budget .\")\n",
    "else:\n",
    "    print(\"optimize! your budget equals your expences.\")"
   ]
  },
  {
   "cell_type": "code",
   "execution_count": null,
   "id": "261eccb6",
   "metadata": {},
   "outputs": [],
   "source": [
    "inche=0\n",
    "year = int(input(\"Enter number of years :\"))\n",
    "for i in range(0,year):\n",
    "    for i in range(0,12):\n",
    "        inche+=int(input(\"enter number of inches of rain in month {} :\".format(i)))\n",
    "        \n",
    "print(\"number of years : \",year)\n",
    "print(\"number of inches rain in all months : \",inche)\n",
    "averagePerMonth = inche/(year*12)\n",
    "print(\"Average rain of one month : \",averagePerMonth)"
   ]
  },
  {
   "cell_type": "code",
   "execution_count": null,
   "id": "eb6ab022",
   "metadata": {},
   "outputs": [],
   "source": [
    "number = 45\n",
    "guess = int(input(\"enter you first guess :\"))\n",
    "if guess==number:\n",
    "    print(\"Congratulation ! you guessed the number .\")\n",
    "while number!=guess:\n",
    "    guess = int(input(\"enter you  guess again :\"))\n",
    "    if(guess>45):\n",
    "        print(\"its too largs pleas try again\")\n",
    "    \n",
    "    elif(guess<45):\n",
    "        print(\"Its too small try agian \")\n",
    "    elif(guess==45):\n",
    "        print(\"Congratulation ! you guessed the number .\")"
   ]
  },
  {
   "cell_type": "code",
   "execution_count": null,
   "id": "a17edc03",
   "metadata": {},
   "outputs": [],
   "source": [
    "numOfOrginasm = float(input(\"Enter number of organisms from starting : \"))\n",
    "percentage  = int(input(\"Enter percentage by which organisms are chanses to increas : \"))\n",
    "days = int(input(\"Ener number of days to multiply : \"))\n",
    "\n",
    "while (0,days):\n",
    "    numOfOrginasm+=(percentage/100)*numOfOrginasm\n",
    "    print(\"Day is {}\".format(i),\"population will be \",numOfOrginasm)\n",
    "    i=i+1\n"
   ]
  }
 ],
 "metadata": {
  "kernelspec": {
   "display_name": "Python 3",
   "language": "python",
   "name": "python3"
  },
  "language_info": {
   "codemirror_mode": {
    "name": "ipython",
    "version": 3
   },
   "file_extension": ".py",
   "mimetype": "text/x-python",
   "name": "python",
   "nbconvert_exporter": "python",
   "pygments_lexer": "ipython3",
   "version": "3.8.8"
  }
 },
 "nbformat": 4,
 "nbformat_minor": 5
}
